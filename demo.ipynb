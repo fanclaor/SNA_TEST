{
 "cells": [
  {
   "cell_type": "code",
   "execution_count": 1,
   "metadata": {
    "collapsed": true
   },
   "outputs": [],
   "source": [
    "from komoran3py import KomoranPy"
   ]
  },
  {
   "cell_type": "code",
   "execution_count": 2,
   "metadata": {
    "collapsed": true
   },
   "outputs": [],
   "source": [
    "komoran = KomoranPy()"
   ]
  },
  {
   "cell_type": "markdown",
   "metadata": {},
   "source": [
    "미등록단어 `아이오아이`가 인식되지 않습니다."
   ]
  },
  {
   "cell_type": "code",
   "execution_count": 3,
   "metadata": {},
   "outputs": [
    {
     "data": {
      "text/plain": [
       "[('청하', 'VV'),\n",
       " ('는', 'ETM'),\n",
       " ('아이오', 'NNP'),\n",
       " ('아이', 'NNP'),\n",
       " ('멤버', 'NNP'),\n",
       " ('이', 'VCP'),\n",
       " ('ㅂ니다', 'EC')]"
      ]
     },
     "execution_count": 3,
     "metadata": {},
     "output_type": "execute_result"
    }
   ],
   "source": [
    "sent = '청하는아이오아이멤버입니다'\n",
    "komoran.pos(sent)"
   ]
  },
  {
   "cell_type": "markdown",
   "metadata": {},
   "source": [
    "사용자사전을 추가합니다. 사용자 사전 파일 안에는 다음과 같은 단어, 품사가 tap separated 로 기록되어 있습니다.\n",
    "\n",
    "    아이오아이    NNP\n",
    "\n",
    "사용자 사전이 추가되면 미등록단어가 인식됩니다."
   ]
  },
  {
   "cell_type": "code",
   "execution_count": 4,
   "metadata": {},
   "outputs": [
    {
     "data": {
      "text/plain": [
       "[('청하', 'VV'),\n",
       " ('는', 'ETM'),\n",
       " ('아이오아이', 'NNP'),\n",
       " ('멤버', 'NNP'),\n",
       " ('이', 'VCP'),\n",
       " ('ㅂ니다', 'EC')]"
      ]
     },
     "execution_count": 4,
     "metadata": {},
     "output_type": "execute_result"
    }
   ],
   "source": [
    "komoran.set_user_dictionary('./user_dictionary.txt')\n",
    "komoran.pos(sent)"
   ]
  },
  {
   "cell_type": "markdown",
   "metadata": {},
   "source": [
    "사용자 사전은 KomoranPy instance 를 만들때마다 새로 설정해야 합니다. 새롭게 만든 instance 는 다시 `아이오아이`를 인식하지 못합니다."
   ]
  },
  {
   "cell_type": "code",
   "execution_count": 5,
   "metadata": {},
   "outputs": [
    {
     "data": {
      "text/plain": [
       "[('청하', 'VV'),\n",
       " ('는', 'ETM'),\n",
       " ('아이오', 'NNP'),\n",
       " ('아이', 'NNP'),\n",
       " ('멤버', 'NNP'),\n",
       " ('이', 'VCP'),\n",
       " ('ㅂ니다', 'EC')]"
      ]
     },
     "execution_count": 5,
     "metadata": {},
     "output_type": "execute_result"
    }
   ],
   "source": [
    "komoran = KomoranPy()\n",
    "komoran.pos(sent)"
   ]
  },
  {
   "cell_type": "markdown",
   "metadata": {},
   "source": [
    "flatten=False 로 설정하면 띄어쓰기 기준으로 nested list 형태의 결과를 return 합니다. 기본값은 flatten = True 입니다. 어절 단위의 단어를 확인할 수 있습니다."
   ]
  },
  {
   "cell_type": "code",
   "execution_count": 6,
   "metadata": {},
   "outputs": [
    {
     "data": {
      "text/plain": [
       "[[('청하', 'VV'), ('는', 'ETM')],\n",
       " [('아이오아이', 'NNP')],\n",
       " [('멤버', 'NNP'), ('이', 'VCP'), ('ㅂ니다', 'EC')]]"
      ]
     },
     "execution_count": 6,
     "metadata": {},
     "output_type": "execute_result"
    }
   ],
   "source": [
    "komoran.set_user_dictionary('./user_dictionary.txt')\n",
    "\n",
    "sent = '청하는 아이오아이 멤버입니다'\n",
    "komoran.pos(sent, flatten=False)"
   ]
  },
  {
   "cell_type": "markdown",
   "metadata": {},
   "source": [
    "position = True 로 설정하면 각 단어의 position 을 알 수 있습니다. 기본값은 position = False 입니다."
   ]
  },
  {
   "cell_type": "code",
   "execution_count": 7,
   "metadata": {},
   "outputs": [
    {
     "data": {
      "text/plain": [
       "[[('청하', 'VV', 0, 2), ('는', 'ETM', 2, 3)],\n",
       " [('아이오아이', 'NNP', 4, 9)],\n",
       " [('멤버', 'NNP', 10, 12), ('이', 'VCP', 12, 13), ('ㅂ니다', 'EC', 12, 15)]]"
      ]
     },
     "execution_count": 7,
     "metadata": {},
     "output_type": "execute_result"
    }
   ],
   "source": [
    "komoran.pos(sent, flatten=False, position=True)"
   ]
  },
  {
   "cell_type": "markdown",
   "metadata": {},
   "source": [
    "flatten = True 로 설정하였을 때에도 position = True 설정이 가능합니다."
   ]
  },
  {
   "cell_type": "code",
   "execution_count": 8,
   "metadata": {},
   "outputs": [
    {
     "data": {
      "text/plain": [
       "[('청하', 'VV', 0, 2),\n",
       " ('는', 'ETM', 2, 3),\n",
       " ('아이오아이', 'NNP', 4, 9),\n",
       " ('멤버', 'NNP', 10, 12),\n",
       " ('이', 'VCP', 12, 13),\n",
       " ('ㅂ니다', 'EC', 12, 15)]"
      ]
     },
     "execution_count": 8,
     "metadata": {},
     "output_type": "execute_result"
    }
   ],
   "source": [
    "komoran.pos(sent, flatten=True, position=True)"
   ]
  },
  {
   "cell_type": "code",
   "execution_count": null,
   "metadata": {
    "collapsed": true
   },
   "outputs": [],
   "source": []
  }
 ],
 "metadata": {
  "kernelspec": {
   "display_name": "Python 3",
   "language": "python",
   "name": "python3"
  },
  "language_info": {
   "codemirror_mode": {
    "name": "ipython",
    "version": 3
   },
   "file_extension": ".py",
   "mimetype": "text/x-python",
   "name": "python",
   "nbconvert_exporter": "python",
   "pygments_lexer": "ipython3",
   "version": "3.6.2"
  }
 },
 "nbformat": 4,
 "nbformat_minor": 1
}
