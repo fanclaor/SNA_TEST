{
 "cells": [
  {
   "cell_type": "code",
   "execution_count": 1,
   "metadata": {
    "collapsed": true
   },
   "outputs": [],
   "source": [
    "from komoran3py import KomoranPy"
   ]
  },
  {
   "cell_type": "code",
   "execution_count": 2,
   "metadata": {
    "collapsed": true
   },
   "outputs": [],
   "source": [
    "komoran = KomoranPy()"
   ]
  },
  {
   "cell_type": "code",
   "execution_count": 3,
   "metadata": {},
   "outputs": [
    {
     "data": {
      "text/plain": [
       "[('청하', 'VV'),\n",
       " ('는', 'ETM'),\n",
       " ('아이오', 'NNP'),\n",
       " ('아이', 'NNP'),\n",
       " ('멤버', 'NNP'),\n",
       " ('이', 'VCP'),\n",
       " ('ㅂ니다', 'EC')]"
      ]
     },
     "execution_count": 3,
     "metadata": {},
     "output_type": "execute_result"
    }
   ],
   "source": [
    "sent = '청하는아이오아이멤버입니다'\n",
    "komoran.pos(sent)"
   ]
  },
  {
   "cell_type": "code",
   "execution_count": 4,
   "metadata": {},
   "outputs": [
    {
     "data": {
      "text/plain": [
       "[('청하', 'VV'),\n",
       " ('는', 'ETM'),\n",
       " ('아이오아이', 'NNP'),\n",
       " ('멤버', 'NNP'),\n",
       " ('이', 'VCP'),\n",
       " ('ㅂ니다', 'EC')]"
      ]
     },
     "execution_count": 4,
     "metadata": {},
     "output_type": "execute_result"
    }
   ],
   "source": [
    "komoran.set_user_dictionary('./user_dictionary.txt')\n",
    "komoran.pos(sent)"
   ]
  },
  {
   "cell_type": "code",
   "execution_count": 5,
   "metadata": {},
   "outputs": [
    {
     "data": {
      "text/plain": [
       "[('청하', 'VV'),\n",
       " ('는', 'ETM'),\n",
       " ('아이오', 'NNP'),\n",
       " ('아이', 'NNP'),\n",
       " ('멤버', 'NNP'),\n",
       " ('이', 'VCP'),\n",
       " ('ㅂ니다', 'EC')]"
      ]
     },
     "execution_count": 5,
     "metadata": {},
     "output_type": "execute_result"
    }
   ],
   "source": [
    "komoran = KomoranPy()\n",
    "komoran.pos(sent)"
   ]
  },
  {
   "cell_type": "code",
   "execution_count": null,
   "metadata": {
    "collapsed": true
   },
   "outputs": [],
   "source": []
  }
 ],
 "metadata": {
  "kernelspec": {
   "display_name": "Python 3",
   "language": "python",
   "name": "python3"
  },
  "language_info": {
   "codemirror_mode": {
    "name": "ipython",
    "version": 3
   },
   "file_extension": ".py",
   "mimetype": "text/x-python",
   "name": "python",
   "nbconvert_exporter": "python",
   "pygments_lexer": "ipython3",
   "version": "3.6.2"
  }
 },
 "nbformat": 4,
 "nbformat_minor": 1
}
